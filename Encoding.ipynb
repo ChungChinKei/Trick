{
 "cells": [
  {
   "cell_type": "markdown",
   "metadata": {},
   "source": [
    "## Label Encoding"
   ]
  },
  {
   "cell_type": "code",
   "execution_count": 1,
   "metadata": {},
   "outputs": [],
   "source": [
    "# 特征存在内在顺序（ordinal feature）\n",
    "from sklearn.preprocessing import LabelEncoder\n",
    "le=LabelEncoder()\n",
    "\n",
    "for col in test_df.columns.values:\n",
    "    if test_df[col].dtypes = 'object':\n",
    "    all_df = train_df[col].append(test_df[col])\n",
    "    le.fit(all_df.values)\n",
    "    train_df[col] = le.transform(train_df[col])\n",
    "    test_df[col] = le.test_df(train_df[col])"
   ]
  },
  {
   "cell_type": "code",
   "execution_count": 7,
   "metadata": {},
   "outputs": [
    {
     "name": "stdout",
     "output_type": "stream",
     "text": [
      "[6 9]\n",
      "[1 1 0 0 1 1]\n"
     ]
    }
   ],
   "source": [
    "# demo\n",
    "le.fit([9,9,6])\n",
    "print(le.classes_)\n",
    "print(le.transform([9,9,6,6,9,9]))"
   ]
  },
  {
   "cell_type": "markdown",
   "metadata": {},
   "source": [
    "## One Hot Encoding"
   ]
  },
  {
   "cell_type": "code",
   "execution_count": null,
   "metadata": {},
   "outputs": [],
   "source": [
    "# 特征不存在内在顺序（non-ordinal feature）\n",
    "#一般适用category数量 < 4的情况,基数过多导致维度灾难\n",
    "all_df = train.append(test_df).reset_index()\n",
    "original_column = list(all_df.columns)\n",
    "all_df = pd.get_dummies(all_df, columns = cat_cols, dummy_na = True) #cat_cols means categorical columns\n",
    "new_column = [c for c in df.columns if c not in original_column ]"
   ]
  },
  {
   "cell_type": "markdown",
   "metadata": {},
   "source": [
    "## WOE Encoding"
   ]
  },
  {
   "cell_type": "markdown",
   "metadata": {},
   "source": [
    "https://github.com/ChungChinKei/Model_Demo/blob/master/lr_woe.ipynb"
   ]
  },
  {
   "cell_type": "markdown",
   "metadata": {},
   "source": [
    "## Target Encoding"
   ]
  },
  {
   "cell_type": "code",
   "execution_count": null,
   "metadata": {},
   "outputs": [],
   "source": [
    "#对于高基类的特征相当友好，当要注意数据泄露\n",
    "train_df['mean_label'] = train_df['feature'].map(train_df.groupby(['feature'])['label'].agg('mean'))\n",
    "train_df['mean(label)'] = (train_df['mean_label'] * train_df['feature_size'] - train_df['label'])/(train_df['feature_size']-1)\n",
    "data_dict = train_df.groupby('feature')['label'].agg('mean').to_dict()\n",
    "test_df['mean(label)'] = test_df['feature'].map(data_dict)"
   ]
  }
 ],
 "metadata": {
  "kernelspec": {
   "display_name": "Python 3",
   "language": "python",
   "name": "python3"
  },
  "language_info": {
   "codemirror_mode": {
    "name": "ipython",
    "version": 3
   },
   "file_extension": ".py",
   "mimetype": "text/x-python",
   "name": "python",
   "nbconvert_exporter": "python",
   "pygments_lexer": "ipython3",
   "version": "3.7.6"
  }
 },
 "nbformat": 4,
 "nbformat_minor": 4
}
